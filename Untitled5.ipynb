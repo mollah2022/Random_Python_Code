{
  "nbformat": 4,
  "nbformat_minor": 0,
  "metadata": {
    "colab": {
      "provenance": [],
      "authorship_tag": "ABX9TyP2uPvpZXEVVLj3il5IJYr4",
      "include_colab_link": true
    },
    "kernelspec": {
      "name": "python3",
      "display_name": "Python 3"
    },
    "language_info": {
      "name": "python"
    }
  },
  "cells": [
    {
      "cell_type": "markdown",
      "metadata": {
        "id": "view-in-github",
        "colab_type": "text"
      },
      "source": [
        "<a href=\"https://colab.research.google.com/github/mollah2022/Random_Python_Code/blob/main/Untitled5.ipynb\" target=\"_parent\"><img src=\"https://colab.research.google.com/assets/colab-badge.svg\" alt=\"Open In Colab\"/></a>"
      ]
    },
    {
      "cell_type": "code",
      "execution_count": 2,
      "metadata": {
        "colab": {
          "base_uri": "https://localhost:8080/"
        },
        "id": "rsH5cV6amxD6",
        "outputId": "425b4a97-3963-4ad0-9e88-0a998cfc3a94"
      },
      "outputs": [
        {
          "output_type": "stream",
          "name": "stdout",
          "text": [
            "10\n",
            "39\n",
            "16\n",
            "32\n",
            "49\n",
            "48\n"
          ]
        }
      ],
      "source": [
        "class operator:\n",
        "  def __init__(self,a):\n",
        "    self.a = a\n",
        "    print(self.a)\n",
        "\n",
        "  def __add__(self,other):\n",
        "    return self.a+other.a\n",
        "\n",
        "op1 = operator(10)\n",
        "op2 = operator(39)\n",
        "\n",
        "op3 = operator(16)\n",
        "op4 = operator(32)\n",
        "\n",
        "print(op1+op2)\n",
        "print(op3+op4)"
      ]
    },
    {
      "cell_type": "code",
      "source": [
        "class operator:\n",
        "  def __init__(self,a):\n",
        "    self.a = a\n",
        "    # print(self.a)\n",
        "\n",
        "  def __sub__(self,other):\n",
        "    return self.a-other.a\n",
        "\n",
        "op1 = operator(10)\n",
        "op2 = operator(39)\n",
        "\n",
        "op3 = operator(16)\n",
        "op4 = operator(32)\n",
        "\n",
        "print(op1-op2)\n",
        "print(op3-op4)"
      ],
      "metadata": {
        "colab": {
          "base_uri": "https://localhost:8080/"
        },
        "id": "CZ-asJXFnp-h",
        "outputId": "8ecc5ddf-05e1-432f-d297-721aa2aad708"
      },
      "execution_count": 4,
      "outputs": [
        {
          "output_type": "stream",
          "name": "stdout",
          "text": [
            "-29\n",
            "-16\n"
          ]
        }
      ]
    },
    {
      "cell_type": "code",
      "source": [
        "class operator:\n",
        "  def __init__(self,a):\n",
        "    self.a = a\n",
        "    print(self.a)\n",
        "\n",
        "  def __gt__(self,other):\n",
        "    if self.a>other.a:\n",
        "      return True\n",
        "    else:\n",
        "      return False\n",
        "\n",
        "op1 = operator(10)\n",
        "op2 = operator(39)\n",
        "\n",
        "op3 = operator(16)\n",
        "op4 = operator(32)\n",
        "\n",
        "print(op1>op2)\n",
        "print(op3>op4)"
      ],
      "metadata": {
        "colab": {
          "base_uri": "https://localhost:8080/"
        },
        "id": "3-3Rz_X6n2b6",
        "outputId": "91f16683-ab77-4751-b1bb-09a02cabc12c"
      },
      "execution_count": 5,
      "outputs": [
        {
          "output_type": "stream",
          "name": "stdout",
          "text": [
            "10\n",
            "39\n",
            "16\n",
            "32\n",
            "False\n",
            "False\n"
          ]
        }
      ]
    },
    {
      "cell_type": "code",
      "source": [
        "class operator:\n",
        "  def __init__(self,a):\n",
        "    self.a = a\n",
        "    print(self.a)\n",
        "\n",
        "  def __lt__(self,other):\n",
        "    if self.a>other.a:\n",
        "      return True\n",
        "    else:\n",
        "      return False\n",
        "\n",
        "op1 = operator(10)\n",
        "op2 = operator(39)\n",
        "\n",
        "op3 = operator(16)\n",
        "op4 = operator(32)\n",
        "\n",
        "print(op1>op2)\n",
        "print(op3>op4)"
      ],
      "metadata": {
        "colab": {
          "base_uri": "https://localhost:8080/"
        },
        "id": "FeF470SZoPCz",
        "outputId": "0d52fd1d-bb60-440a-93cd-c152a5db6440"
      },
      "execution_count": 6,
      "outputs": [
        {
          "output_type": "stream",
          "name": "stdout",
          "text": [
            "10\n",
            "39\n",
            "16\n",
            "32\n",
            "True\n",
            "True\n"
          ]
        }
      ]
    },
    {
      "cell_type": "code",
      "source": [
        "class operator:\n",
        "  def __init__(self,a):\n",
        "    self.a = a\n",
        "    print(self.a)\n",
        "\n",
        "  def __eq__(self,other):\n",
        "    if self.a==other.a:\n",
        "      return True\n",
        "    else:\n",
        "      return False\n",
        "\n",
        "op1 = operator(10)\n",
        "op2 = operator(30)\n",
        "\n",
        "op3 = operator(32)\n",
        "op4 = operator(32)\n",
        "\n",
        "print(op1==op2)\n",
        "print(op3==op4)"
      ],
      "metadata": {
        "colab": {
          "base_uri": "https://localhost:8080/"
        },
        "id": "jU2dPI0aoVVM",
        "outputId": "a680660c-ae30-4c62-9c64-2429097669f5"
      },
      "execution_count": 9,
      "outputs": [
        {
          "output_type": "stream",
          "name": "stdout",
          "text": [
            "10\n",
            "30\n",
            "32\n",
            "32\n",
            "False\n",
            "True\n"
          ]
        }
      ]
    }
  ]
}