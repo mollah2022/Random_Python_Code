{
  "nbformat": 4,
  "nbformat_minor": 0,
  "metadata": {
    "colab": {
      "provenance": [],
      "authorship_tag": "ABX9TyPYDBifgOHbHCQHTKPTgEGP",
      "include_colab_link": true
    },
    "kernelspec": {
      "name": "python3",
      "display_name": "Python 3"
    },
    "language_info": {
      "name": "python"
    }
  },
  "cells": [
    {
      "cell_type": "markdown",
      "metadata": {
        "id": "view-in-github",
        "colab_type": "text"
      },
      "source": [
        "<a href=\"https://colab.research.google.com/github/mollah2022/Random_Python_Code/blob/main/Untitled4.ipynb\" target=\"_parent\"><img src=\"https://colab.research.google.com/assets/colab-badge.svg\" alt=\"Open In Colab\"/></a>"
      ]
    },
    {
      "cell_type": "code",
      "execution_count": 2,
      "metadata": {
        "colab": {
          "base_uri": "https://localhost:8080/"
        },
        "id": "G6SgeEY-SPf4",
        "outputId": "a87d62c2-493a-4400-acab-6161e57291b2"
      },
      "outputs": [
        {
          "output_type": "stream",
          "name": "stdout",
          "text": [
            "20\n"
          ]
        }
      ],
      "source": [
        "class my_calculator:\n",
        "  def product(self,num1,num2):\n",
        "    print(num1*num2)\n",
        "cal1 = my_calculator()\n",
        "cal1.product(4,5)"
      ]
    },
    {
      "cell_type": "code",
      "source": [
        "class my_calculator:\n",
        "  def product(self, num1,num2=None,num3=None):\n",
        "    if num1!=None and num2!=None and num3!=None:\n",
        "      print(num1*num2*num3)\n",
        "    elif num1!=None and num2!=None:\n",
        "      print(num1*num2)\n",
        "    else:\n",
        "      print(num1)\n",
        "\n",
        "cal1 = my_calculator()\n",
        "cal1.product(5)\n",
        "cal1.product(5,6,10)\n",
        "cal1.product(5,6)"
      ],
      "metadata": {
        "colab": {
          "base_uri": "https://localhost:8080/"
        },
        "id": "RgTZgEOxS9_m",
        "outputId": "951c9177-f676-4c36-cffd-f8b44c748459"
      },
      "execution_count": 6,
      "outputs": [
        {
          "output_type": "stream",
          "name": "stdout",
          "text": [
            "5\n",
            "300\n",
            "30\n"
          ]
        }
      ]
    },
    {
      "cell_type": "code",
      "source": [
        "class my_calculator:\n",
        "  def product(self, *nums):\n",
        "    sum = 1\n",
        "    for x in nums:\n",
        "      sum = sum*x\n",
        "    print(sum)\n",
        "\n",
        "cal1 = my_calculator()\n",
        "cal1.product(1,6,4,546,5,6)\n",
        "cal1.product(1,2,564,64,3,54)\n",
        "cal1.product(1,6,7)\n",
        "cal1.product(1,8,9,)\n",
        "cal1.product(1,4,5)\n",
        "cal1.product(1,7,8)\n",
        "cal1.product(1,9999,66666)\n",
        "cal1.product(1,9,8)"
      ],
      "metadata": {
        "colab": {
          "base_uri": "https://localhost:8080/"
        },
        "id": "cCMFQNY6UcNX",
        "outputId": "255ba6e8-d0d3-4db5-8aaa-4ab8e0634be6"
      },
      "execution_count": 16,
      "outputs": [
        {
          "output_type": "stream",
          "name": "stdout",
          "text": [
            "393120\n",
            "11695104\n",
            "42\n",
            "72\n",
            "20\n",
            "56\n",
            "666593334\n",
            "72\n"
          ]
        }
      ]
    },
    {
      "cell_type": "code",
      "source": [
        "from multipledispatch import dispatch\n",
        "\n",
        "class my_calculator:\n",
        "\n",
        "  @dispatch(int,int)\n",
        "  def product(self,num1,num2):\n",
        "    print(num1*num2)\n",
        "\n",
        "  @dispatch(int,int,int)\n",
        "  def product(self,num1,num2,num3):\n",
        "    print(num1*num2*num3)\n",
        "\n",
        "  @dispatch(str,int)\n",
        "  def product(self,str,num1):\n",
        "    print(int(str)*num1)\n",
        "\n",
        "  @dispatch(str,str)\n",
        "  def product(self,str1,str2):\n",
        "    print(int(str1)*int(str2))\n",
        "\n",
        "\n",
        "cal1 = my_calculator()\n",
        "cal1.product(2,4)\n",
        "cal1.product(3,4,5)\n",
        "cal1.product(\"25\",8)\n",
        "cal1.product(\"100\",\"100\")\n"
      ],
      "metadata": {
        "colab": {
          "base_uri": "https://localhost:8080/"
        },
        "id": "49s5uQg3XyX6",
        "outputId": "ae3c5e40-5bb3-4f07-b927-dc4a9c8da763"
      },
      "execution_count": 23,
      "outputs": [
        {
          "output_type": "stream",
          "name": "stdout",
          "text": [
            "8\n",
            "60\n",
            "200\n",
            "10000\n"
          ]
        }
      ]
    },
    {
      "cell_type": "code",
      "source": [
        "class student:\n",
        "  def __init__(self,*info):\n",
        "    if len(info)==3:\n",
        "      self.name = info[0]\n",
        "      self.id = info[1]\n",
        "      self.cgpa = info[2]\n",
        "      print(self.name,self.id,self.cgpa)\n",
        "\n",
        "    elif len(info)==2:\n",
        "      self.name = info[0]\n",
        "      self.id = info[1]\n",
        "      print(self.name,self.id)\n",
        "\n",
        "    elif len(info)==1:\n",
        "      self.name = info[0]\n",
        "      print(self.name)\n",
        "\n",
        "st1 = student(\"Sajib\",53,3.53)\n",
        "st2 = student(\"Sajib\",53)\n",
        "st3 = student(\"Sajib\")"
      ],
      "metadata": {
        "colab": {
          "base_uri": "https://localhost:8080/"
        },
        "id": "U9NJ8IKDcI_M",
        "outputId": "f0fdfcc4-8585-4ab0-a29e-baaba79b9986"
      },
      "execution_count": 26,
      "outputs": [
        {
          "output_type": "stream",
          "name": "stdout",
          "text": [
            "Sajib 53 3.53\n",
            "Sajib 53\n",
            "Sajib\n"
          ]
        }
      ]
    }
  ]
}