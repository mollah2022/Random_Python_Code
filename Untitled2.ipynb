{
  "nbformat": 4,
  "nbformat_minor": 0,
  "metadata": {
    "colab": {
      "provenance": [],
      "authorship_tag": "ABX9TyNCKBKN1Bg2YAx2RmPIW9b7",
      "include_colab_link": true
    },
    "kernelspec": {
      "name": "python3",
      "display_name": "Python 3"
    },
    "language_info": {
      "name": "python"
    }
  },
  "cells": [
    {
      "cell_type": "markdown",
      "metadata": {
        "id": "view-in-github",
        "colab_type": "text"
      },
      "source": [
        "<a href=\"https://colab.research.google.com/github/mollah2022/Random_Python_Code/blob/main/Untitled2.ipynb\" target=\"_parent\"><img src=\"https://colab.research.google.com/assets/colab-badge.svg\" alt=\"Open In Colab\"/></a>"
      ]
    },
    {
      "cell_type": "code",
      "execution_count": null,
      "metadata": {
        "colab": {
          "base_uri": "https://localhost:8080/"
        },
        "id": "JeU175XpWIjE",
        "outputId": "b3330b79-0b60-435e-cd9e-e988d3b67eb5"
      },
      "outputs": [
        {
          "output_type": "stream",
          "name": "stdout",
          "text": [
            "Sajib 101\n",
            "messi 102\n"
          ]
        }
      ],
      "source": [
        "class employee:\n",
        "  def __init__(self,name,id):\n",
        "    self.Name = name\n",
        "    self.Roll = id\n",
        "    print(self.Name,self.Roll)\n",
        "emp1 = employee(\"Sajib\",101)\n",
        "emp2 = employee(\"messi\",102)"
      ]
    },
    {
      "cell_type": "code",
      "source": [
        "class employee:\n",
        "  def __init__(self,name,id):\n",
        "    self.Name = name\n",
        "    self.Roll = id\n",
        "  def display(self):\n",
        "    print(self.Name,self.Roll)\n",
        "\n",
        "emp1 = employee(\"Messi\",870)\n",
        "emp2 = employee(\"Rolando\",876)\n",
        "\n",
        "emp1.display()\n",
        "emp2.display()\n"
      ],
      "metadata": {
        "colab": {
          "base_uri": "https://localhost:8080/"
        },
        "id": "eUWSxG-tZGqk",
        "outputId": "93bb3580-cb4f-44c3-ac2f-e8fcde7e127e"
      },
      "execution_count": null,
      "outputs": [
        {
          "output_type": "stream",
          "name": "stdout",
          "text": [
            "Messi 870\n",
            "Rolando 876\n"
          ]
        }
      ]
    },
    {
      "cell_type": "code",
      "source": [
        "class Employee:\n",
        "  def __init__(self):\n",
        "    print(\"Hello Bangladesh\")\n",
        "\n",
        "emp1 = Employee()\n",
        "emp2 = Employee()"
      ],
      "metadata": {
        "colab": {
          "base_uri": "https://localhost:8080/"
        },
        "id": "08dI9OnhW4Th",
        "outputId": "d5796e5c-2dcf-4df5-d351-81af3338e89c"
      },
      "execution_count": null,
      "outputs": [
        {
          "output_type": "stream",
          "name": "stdout",
          "text": [
            "Hello Bangladesh\n",
            "Hello Bangladesh\n"
          ]
        }
      ]
    }
  ]
}