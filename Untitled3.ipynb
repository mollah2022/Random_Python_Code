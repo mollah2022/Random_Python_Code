{
  "nbformat": 4,
  "nbformat_minor": 0,
  "metadata": {
    "colab": {
      "provenance": [],
      "authorship_tag": "ABX9TyOo8JF73czXfdpjonRO+ain",
      "include_colab_link": true
    },
    "kernelspec": {
      "name": "python3",
      "display_name": "Python 3"
    },
    "language_info": {
      "name": "python"
    }
  },
  "cells": [
    {
      "cell_type": "markdown",
      "metadata": {
        "id": "view-in-github",
        "colab_type": "text"
      },
      "source": [
        "<a href=\"https://colab.research.google.com/github/mollah2022/Random_Python_Code/blob/mollah2022-patch-1/Untitled3.ipynb\" target=\"_parent\"><img src=\"https://colab.research.google.com/assets/colab-badge.svg\" alt=\"Open In Colab\"/></a>"
      ]
    },
    {
      "cell_type": "code",
      "execution_count": 9,
      "metadata": {
        "colab": {
          "base_uri": "https://localhost:8080/"
        },
        "id": "M6Jmyqb1f_nv",
        "outputId": "c6be3aaf-c64e-4471-d1c1-4180c39bbd6c"
      },
      "outputs": [
        {
          "output_type": "stream",
          "name": "stdout",
          "text": [
            "tommy black\n",
            "Tom Latham white\n",
            "tommy Brown\n",
            "Tom Latham Tomato\n",
            "{'name': 'tommy', 'color': 'Brown'}\n",
            "{'name': 'Tom Latham', 'color': 'Tomato'}\n",
            "['__class__', '__delattr__', '__dict__', '__dir__', '__doc__', '__eq__', '__format__', '__ge__', '__getattribute__', '__gt__', '__hash__', '__init__', '__init_subclass__', '__le__', '__lt__', '__module__', '__ne__', '__new__', '__reduce__', '__reduce_ex__', '__repr__', '__setattr__', '__sizeof__', '__str__', '__subclasshook__', '__weakref__', 'color', 'display', 'name', 'update_colour']\n",
            "['__class__', '__delattr__', '__dict__', '__dir__', '__doc__', '__eq__', '__format__', '__ge__', '__getattribute__', '__gt__', '__hash__', '__init__', '__init_subclass__', '__le__', '__lt__', '__module__', '__ne__', '__new__', '__reduce__', '__reduce_ex__', '__repr__', '__setattr__', '__sizeof__', '__str__', '__subclasshook__', '__weakref__', 'color', 'display', 'name', 'update_colour']\n"
          ]
        }
      ],
      "source": [
        "class dog:\n",
        "  def __init__(self,name,color):\n",
        "    self.name = name\n",
        "    self.color = color\n",
        "  def update_colour(self,new_colour):\n",
        "    self.color = new_colour\n",
        "  def display(self):\n",
        "    print(self.name,self.color)\n",
        "\n",
        "dog1 = dog(\"tommy\",\"black\")\n",
        "dog2 = dog(\"Tom Latham\",\"white\")\n",
        "\n",
        "dog1.display()\n",
        "dog2.display()\n",
        "\n",
        "dog1.update_colour(\"Brown\")\n",
        "dog2.update_colour(\"Tomato\")\n",
        "\n",
        "\n",
        "dog1.display()\n",
        "dog2.display()\n",
        "\n",
        "print(dog1.__dict__)\n",
        "print(dog2.__dict__)\n",
        "\n",
        "\n",
        "print(dir(dog1))\n",
        "print(dir(dog2))"
      ]
    },
    {
      "cell_type": "code",
      "source": [
        "class Cat:\n",
        "\n",
        "  def __init__(self,color,action):\n",
        "    self.color = color\n",
        "    self.action = action\n",
        "\n",
        "  def compare(self,ct):\n",
        "    if self.action == ct.action:\n",
        "      print(\"Same action\")\n",
        "    else:\n",
        "      print(\"Different action\")\n",
        "\n",
        "  def display(self):\n",
        "    print(self.color,self.action)\n",
        "\n",
        "cat1 = Cat(\"black\",\"jumping\")\n",
        "cat2 = Cat(\"white\",\"eating\")\n",
        "\n",
        "cat1.display()\n",
        "cat2.display()\n",
        "\n",
        "cat1.compare(cat2)\n",
        "\n",
        "cat2.action = \"jumping\"\n",
        "cat1.compare(cat2)"
      ],
      "metadata": {
        "colab": {
          "base_uri": "https://localhost:8080/"
        },
        "id": "bMX1uTfH4DBu",
        "outputId": "a2488bfc-cbc8-447e-896b-8821798ba516"
      },
      "execution_count": 15,
      "outputs": [
        {
          "output_type": "stream",
          "name": "stdout",
          "text": [
            "black jumping\n",
            "white eating\n",
            "Different action\n",
            "Same action\n"
          ]
        }
      ]
    },
    {
      "cell_type": "code",
      "source": [
        "class Cat:\n",
        "  def __init__(self,color,action):\n",
        "    self.color = color\n",
        "    self.action = action\n",
        "\n",
        "  def display(self):\n",
        "    print(self.color,self.action)\n",
        "\n",
        "  def views(self,num,clr):\n",
        "    self.num = num + 10\n",
        "    self.clr = clr\n",
        "    self.clr[0] = \"Blue\"\n",
        "    print(self.num,self.clr)\n",
        "\n",
        "x = 509\n",
        "colour = [\"Red\",\"Black\",\"Green\",\"Yeallow\",\"Tomato\"]\n",
        "cat1 = Cat(\"Black\",\"Sleeping\")\n",
        "cat1.display()\n",
        "cat1.views(x,colour)\n",
        "\n",
        "print(x)\n",
        "print(colour)"
      ],
      "metadata": {
        "colab": {
          "base_uri": "https://localhost:8080/"
        },
        "id": "NOltIo3M8BHn",
        "outputId": "819bb252-a478-46e3-a73d-19e32e7738ab"
      },
      "execution_count": 18,
      "outputs": [
        {
          "output_type": "stream",
          "name": "stdout",
          "text": [
            "Black Sleeping\n",
            "519 ['Blue', 'Black', 'Green', 'Yeallow', 'Tomato']\n",
            "509\n",
            "['Blue', 'Black', 'Green', 'Yeallow', 'Tomato']\n"
          ]
        }
      ]
    }
  ]
}