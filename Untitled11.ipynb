{
  "nbformat": 4,
  "nbformat_minor": 0,
  "metadata": {
    "colab": {
      "provenance": [],
      "authorship_tag": "ABX9TyOSskPpg/YA7hOBMg7VJFmi",
      "include_colab_link": true
    },
    "kernelspec": {
      "name": "python3",
      "display_name": "Python 3"
    },
    "language_info": {
      "name": "python"
    }
  },
  "cells": [
    {
      "cell_type": "markdown",
      "metadata": {
        "id": "view-in-github",
        "colab_type": "text"
      },
      "source": [
        "<a href=\"https://colab.research.google.com/github/mollah2022/Random_Python_Code/blob/main/Untitled11.ipynb\" target=\"_parent\"><img src=\"https://colab.research.google.com/assets/colab-badge.svg\" alt=\"Open In Colab\"/></a>"
      ]
    },
    {
      "cell_type": "code",
      "execution_count": null,
      "metadata": {
        "colab": {
          "base_uri": "https://localhost:8080/"
        },
        "id": "n_EgxQJxuO66",
        "outputId": "260902eb-f5fa-4194-97f1-3ffe26b8dc09"
      },
      "outputs": [
        {
          "output_type": "stream",
          "name": "stdout",
          "text": [
            "hello Google colab\n",
            "200\n"
          ]
        }
      ],
      "source": [
        "print(\"hello Google colab\")\n",
        "num1 = 100\n",
        "num2 = 100\n",
        "result = num1 + num2\n",
        "\n",
        "print(result)"
      ]
    },
    {
      "cell_type": "code",
      "source": [
        "num1 = 200\n",
        "num2 = 300\n",
        "\n",
        "if num1 > num2:\n",
        "  print(\"Number one is greater than number two\")\n",
        "else:\n",
        "  print(\"Number two is greater than number one\")"
      ],
      "metadata": {
        "colab": {
          "base_uri": "https://localhost:8080/"
        },
        "id": "KnSF1ggnvNMo",
        "outputId": "cd1adaeb-8680-4f0d-a4fe-4074d77e930b"
      },
      "execution_count": null,
      "outputs": [
        {
          "output_type": "stream",
          "name": "stdout",
          "text": [
            "Number two is greater than number one\n"
          ]
        }
      ]
    },
    {
      "cell_type": "code",
      "source": [
        "num1 = 200\n",
        "num2 = 200\n",
        "\n",
        "if num1 > num2:\n",
        "  print(\"Number one is greater than Number two\")\n",
        "elif num1 < num2:\n",
        "  print(\"Number two is graeter than number one\")\n",
        "else:\n",
        "  print(\"Both Number are equal\")"
      ],
      "metadata": {
        "colab": {
          "base_uri": "https://localhost:8080/"
        },
        "id": "L3PwAI8Ovj5g",
        "outputId": "f04bde35-47ca-4def-f9bc-4310a69beb7f"
      },
      "execution_count": null,
      "outputs": [
        {
          "output_type": "stream",
          "name": "stdout",
          "text": [
            "Both Number are equal\n"
          ]
        }
      ]
    },
    {
      "cell_type": "code",
      "source": [
        "fruit = [\"apple\",\"mango\",\"Banana\",\"Orange\",\"guaba\"]\n",
        "for x in fruit:\n",
        "  print(x)\n",
        "fruit.append(\"Kamranga\")\n",
        "for x in fruit:\n",
        "  print(x)\n",
        "fruit.pop()\n",
        "for x in fruit:\n",
        "  print(x)"
      ],
      "metadata": {
        "colab": {
          "base_uri": "https://localhost:8080/"
        },
        "id": "yfMS5PXKwGEt",
        "outputId": "18c01adf-93ce-4f69-b238-555af817ebe6"
      },
      "execution_count": null,
      "outputs": [
        {
          "output_type": "stream",
          "name": "stdout",
          "text": [
            "apple\n",
            "mango\n",
            "Banana\n",
            "Orange\n",
            "guaba\n",
            "apple\n",
            "mango\n",
            "Banana\n",
            "Orange\n",
            "guaba\n",
            "Kamranga\n",
            "apple\n",
            "mango\n",
            "Banana\n",
            "Orange\n",
            "guaba\n"
          ]
        }
      ]
    },
    {
      "cell_type": "code",
      "source": [
        "import random\n",
        "\n",
        "print(random.randrange(1, 100))\n",
        "a = \"Hello, World!\"\n",
        "print(a[1])\n",
        "for x in \"banana\":\n",
        "  print(x)\n",
        "a = \"Hello, World!\"\n",
        "print(len(a))"
      ],
      "metadata": {
        "colab": {
          "base_uri": "https://localhost:8080/"
        },
        "id": "01MOAsd1xH-J",
        "outputId": "7fb1cf6e-4d00-49ee-dbac-dfd4878c6d38"
      },
      "execution_count": null,
      "outputs": [
        {
          "output_type": "stream",
          "name": "stdout",
          "text": [
            "77\n",
            "e\n",
            "b\n",
            "a\n",
            "n\n",
            "a\n",
            "n\n",
            "a\n",
            "13\n"
          ]
        }
      ]
    },
    {
      "cell_type": "code",
      "source": [
        "s1 = \"This is sajib ahmed\"\n",
        "print(s1[2:5])\n",
        "\n",
        "for x in s1:\n",
        "  if x == \"a\":\n",
        "    break\n",
        "  print(x)"
      ],
      "metadata": {
        "colab": {
          "base_uri": "https://localhost:8080/"
        },
        "id": "VWAjYWf3y9WF",
        "outputId": "e2c4471c-949f-49b7-da0a-e7589faa80b5"
      },
      "execution_count": null,
      "outputs": [
        {
          "output_type": "stream",
          "name": "stdout",
          "text": [
            "is \n",
            "T\n",
            "h\n",
            "i\n",
            "s\n",
            " \n",
            "i\n",
            "s\n",
            " \n",
            "s\n"
          ]
        }
      ]
    },
    {
      "cell_type": "code",
      "source": [
        "b = \"Hello, World!\"\n",
        "print(b[2:])\n",
        "b = \"Hello, World!\"\n",
        "print(b[-5:-2])\n",
        "a = \"Hello, World!\"\n",
        "print(a.upper())\n",
        "a = \" Hello, World! \"\n",
        "print(a.strip())"
      ],
      "metadata": {
        "colab": {
          "base_uri": "https://localhost:8080/"
        },
        "id": "tM7Of6hRzdWD",
        "outputId": "c73e5520-8edc-426f-f69c-d618261b7130"
      },
      "execution_count": null,
      "outputs": [
        {
          "output_type": "stream",
          "name": "stdout",
          "text": [
            "llo, World!\n",
            "orl\n",
            "HELLO, WORLD!\n",
            "Hello, World!\n"
          ]
        }
      ]
    },
    {
      "cell_type": "code",
      "source": [
        "a = \"Hello, World!\"\n",
        "print(a.replace(\"H\", \"J\"))\n",
        "a = \"Hello, World!\"\n",
        "print(a.split(\",\"))"
      ],
      "metadata": {
        "colab": {
          "base_uri": "https://localhost:8080/"
        },
        "id": "8yaHkq-E01oa",
        "outputId": "f691143c-f015-4f1e-c34c-b63d14ce9c76"
      },
      "execution_count": null,
      "outputs": [
        {
          "output_type": "stream",
          "name": "stdout",
          "text": [
            "Jello, World!\n",
            "['Hello', ' World!']\n"
          ]
        }
      ]
    },
    {
      "cell_type": "code",
      "source": [
        "sports = [\"Cricket\",\"football\",\"Buscatball\",\"Hokey\",\"Bassball\"]\n",
        "for x in range(len(sports)):\n",
        "  print(sports[x])"
      ],
      "metadata": {
        "colab": {
          "base_uri": "https://localhost:8080/"
        },
        "id": "26wUAmkZ-a6x",
        "outputId": "20cd26a3-65c8-4212-e245-5a8e0930fcfe"
      },
      "execution_count": null,
      "outputs": [
        {
          "output_type": "stream",
          "name": "stdout",
          "text": [
            "Cricket\n",
            "football\n",
            "Buscatball\n",
            "Hokey\n",
            "Bassball\n"
          ]
        }
      ]
    }
  ]
}